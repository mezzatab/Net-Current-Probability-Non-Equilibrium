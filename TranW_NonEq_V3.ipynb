{
 "cells": [
  {
   "cell_type": "code",
   "execution_count": 273,
   "metadata": {},
   "outputs": [],
   "source": [
    "import numpy as np\n",
    "import math \n",
    "import random\n",
    "from numpy import linalg \n",
    "from numpy import real\n",
    "from scipy import linalg, matrix\n",
    "from sympy import Matrix\n",
    "from fractions import Fraction \n",
    "import sympy as sy\n",
    "\n",
    "A={0:(0,1), 1:(2,3), 2:(0,2), 3:(0,3), 4:(1,2), 5:(1,3)}\n",
    "\n",
    "kex=3\n",
    "kin=2.5\n",
    "\n",
    "def distance(X1,X2):\n",
    "\tSum=0.0\n",
    "\tfor i in range(len(X1)):\n",
    "\t\tSum=Sum+(X1[i]-X2[i])*(X1[i]-X2[i])\n",
    "\treturn math.sqrt(Sum/len(X1))\n",
    "\n",
    "### Sorting things ### \n",
    "def getKey(item):\n",
    "    return item[0]\n",
    "\n",
    "\n",
    "### Generating all sets of states, 00, 01, 10, 11  ### \n",
    "def OrderSets():\n",
    "#\tList=[0]*6\n",
    "\tAllset=[]\n",
    "\tList=[]\n",
    "#\tAllset.append(List)\n",
    "#\tprint Allset\n",
    "\tNewSet=[]\n",
    "\tSet(Allset,List,0)\n",
    "\tfor i in range(len(Allset)):\n",
    "#\t\tprint list(reversed(Allset[i]))\n",
    "\t\tNewSet.append(Allset[i])\n",
    "#\t\tprint Allset[i]\n",
    "#\t\tNewSet.append(list(reversed(Allset[i])))\n",
    "#\tprint list(reversed(NewSet))\n",
    "\treturn NewSet\n",
    "#\treturn NewSet\n",
    "\n",
    "\n",
    "\n",
    "## Generating all sets of states 00, 10, 01, 11 ##\n",
    "def AllSets():\n",
    "\tAllset=[]\n",
    "\tList=[]\n",
    "\tNewSet=[]\n",
    "\tSet(Allset,List,0)\n",
    "\tfor i in range(len(Allset)):\n",
    "\t\tNewSet.append(list(reversed(Allset[i])))\n",
    "\treturn NewSet\n",
    "\n",
    "def Set(Allset,List,index):\n",
    "#\tprint index\n",
    "\tif len(List)==6:\n",
    "\t\tAllset.append(List)\n",
    "\telse:\n",
    "\t\tfor i in range(2):\n",
    "\t\t\tSet(Allset,List+[i],index+1)\n",
    "## Indexing the states ## \n",
    "\n",
    "## Indexing the states ## \n",
    "def state(N1):\n",
    "\tN=list(reversed(N1))\n",
    "\tL=2**N[0]\n",
    "\tfor i in range(1,len(N)):\n",
    "\t\tL=L+N[i]*(2**((i)*N[i]))\n",
    "\treturn L-1\n",
    "\n",
    "\n",
    "\n",
    "## Measuring transition probability ##\n",
    "def stay(N1,k):\n",
    "    L1=state(N1)\n",
    "    prob=0\n",
    "    if k[0]==kin:\n",
    "        prob=prob+1\n",
    "    if k[1]==kin:\n",
    "        prob=prob+1\n",
    "    if k[2]==kex:\n",
    "        prob=prob+1\n",
    "    if k[3]==kex:\n",
    "        prob=prob+1\n",
    "    if prob==0:\n",
    "        prob=0\n",
    "    return (L1,sy.Rational(Fraction(prob,4)))\n",
    "\n",
    "def Tran(N1,N2,k):\n",
    "    prob=0\n",
    "    L1=state(N1)\n",
    "    L2=state(N2)\n",
    "\n",
    "    index=[]\n",
    "    \n",
    "    for i in range(len(N1)):\n",
    "        if N1[i]!=N2[i]:\n",
    "            prob=0\n",
    "            if N1[i]==0:\n",
    "                if i in range(2,6):\n",
    "                    (x,y)=A[i]\n",
    "                    if k[y] < kex:\n",
    "                        prob=prob+sy.Rational(Fraction(1,4*(3-k[y])))\n",
    "                    if k[x] < kin:\n",
    "                        prob=prob+sy.Rational(Fraction(1,4*(3-k[x])))\n",
    "\n",
    "                if i == 0:\n",
    "                    (x,y)=A[i]                    \n",
    "                    if k[y] < kin:\n",
    "                        prob=prob+sy.Rational(Fraction(1,4*(3-k[y])))\n",
    "                    if k[x] < kin:\n",
    "                        prob=prob+sy.Rational(Fraction(1,4*(3-k[x])))\n",
    "                                                \n",
    "                if i == 1:\n",
    "                    (x,y)=A[i]                    \n",
    "                    if k[y] < kex:\n",
    "                        prob=prob+sy.Rational(Fraction(1,4*(3-k[y])))\n",
    "                    if k[x] < kex:\n",
    "                        prob=prob+sy.Rational(Fraction(1,4*(3-k[x])))\n",
    "                    \n",
    "                \n",
    "            if N1[i]!=0:\n",
    "                if i in range(2,6):\n",
    "                    (x,y)=A[i]\n",
    "                    if k[y] > kex:\n",
    "                        prob=prob+sy.Rational(Fraction(1,4*(k[y])))\n",
    "                    if k[x] > kin:\n",
    "                        prob=prob+sy.Rational(Fraction(1,4*(k[x])))\n",
    "\n",
    "                if i == 0:\n",
    "                    (x,y)=A[i]                    \n",
    "                    if k[y] > kin:\n",
    "                        prob=prob+sy.Rational(Fraction(1,4*(k[y])))\n",
    "                    if k[x] > kin:\n",
    "                        prob=prob+sy.Rational(Fraction(1,4*(k[x])))\n",
    "                                                \n",
    "                if i == 1:\n",
    "                    (x,y)=A[i]                    \n",
    "                    if k[y] > kex:\n",
    "                        prob=prob+sy.Rational(Fraction(1,4*(k[y])))\n",
    "                    if k[x] > kex:\n",
    "                        prob=prob+sy.Rational(Fraction(1,4*(k[x])))\n",
    "                                \n",
    "    #print (L2,prob)\n",
    "    return (L2,prob)\n",
    "\n",
    "\n",
    "\n",
    "\n",
    "## returning W matrix ## \n",
    "\n",
    "def WMatrix():\n",
    "    W=np.zeros((64, 64))\n",
    "    W=W.astype('object')\n",
    "    for i in range(64):\n",
    "        for j in range(64):\n",
    "            W[i,j]=sy.Rational('0')\n",
    "    New=OrderSets()\n",
    "    for i in New:\n",
    "        Nb(i, W)\n",
    "    return W \n",
    "\n",
    "\n",
    "## Printing W Matrix in Latex Format ## \n",
    "#fracW=np.zeros((64,64))\n",
    "#fracW=fracW.astype('object')\n",
    "\n",
    "\n",
    "\n",
    "\n",
    "\n",
    "## Measuring the row related state N1 in W matrix ## \n",
    "def Nb(N1, W):\n",
    "    L1=state(N1)\n",
    "    Neig=[]\n",
    "    k=[0]*4\n",
    "\n",
    "    for i in range(len(N1)):\n",
    "        Neig.append(N1[:i]+[1-N1[i]]+N1[i+1:])\n",
    "\n",
    "    k[0]=N1[0]+N1[2]+N1[3]\n",
    "    k[1]=N1[0]+N1[4]+N1[5]\n",
    "    k[2]=N1[2]+N1[4]+N1[1]\n",
    "    k[3]=N1[3]+N1[5]+N1[1]\n",
    "\n",
    "    Grand=[]\n",
    "    Grand.append(stay(N1,k))\n",
    "    for i in Neig:\n",
    "        Z=Tran(N1,i,k)\n",
    "        Grand.append(Z)\n",
    "    Grand1=sorted(Grand,key=getKey)\n",
    "    for i in range(len(Grand1)-1):\n",
    "        (x,y)=Grand1[i]\n",
    "        W[L1][x]=y\n",
    "    (x,y)=Grand1[len(Grand1)-1]\n",
    "    W[L1][x]=y\n",
    "\n",
    "\n",
    "W= WMatrix()\n",
    "WT=W.T"
   ]
  },
  {
   "cell_type": "code",
   "execution_count": 274,
   "metadata": {},
   "outputs": [],
   "source": [
    "symStates={0:[16],1:[17,18,20,24],2:[19,28],3:[21,26],4:[22,25],5:[23,27,29,30],6:[31],7:[48],8:[32+17,32+18,32+20,32+24],9:[32+19,32+28],10:[32+21,32+26],11:[32+22,32+25],12:[32+23,32+27,32+29,32+30],13:[32+31]}\n",
    "degStates=[1,4,2,2,2,4,1,1,4,2,2,2,4,1]\n",
    "SurvList=[i for i in range(16,32)]+[i for i in range(48,64)]\n",
    "def returnKey(value,Dict):\n",
    "    for i in Dict:\n",
    "        for j in Dict[i]:\n",
    "            if value == j:\n",
    "                return i "
   ]
  },
  {
   "cell_type": "code",
   "execution_count": 275,
   "metadata": {},
   "outputs": [],
   "source": [
    "# We already assume 32 states survive with extroverts connected, we define redW to focus on those states #\n",
    "redW=np.zeros((32,32))\n",
    "redW=redW.astype('object')\n",
    "for i in range(32):\n",
    "    if i < 16:\n",
    "        indexI=i+16\n",
    "    else:\n",
    "        indexI=i+32\n",
    "    for j in range(32):\n",
    "        if j < 16:\n",
    "            indexJ=j+16\n",
    "        else:\n",
    "            indexJ=j+32\n",
    "        redW[i,j]=W[indexI,indexJ]"
   ]
  },
  {
   "cell_type": "code",
   "execution_count": 276,
   "metadata": {},
   "outputs": [
    {
     "name": "stdout",
     "output_type": "stream",
     "text": [
      "DZ[[1,1]]=-1;\n",
      "\n",
      "DZ[[2,1]]=5/24;\n",
      "DZ[[2,2]]=-1;\n",
      "\n",
      "DZ[[3,2]]=1/2;\n",
      "DZ[[3,3]]=-1;\n",
      "DZ[[3,10]]=1/12;\n",
      "\n",
      "DZ[[4,2]]=2/3;\n",
      "DZ[[4,4]]=-3/4;\n",
      "\n",
      "DZ[[5,2]]=5/12;\n",
      "DZ[[5,5]]=-1;\n",
      "\n",
      "DZ[[6,3]]=1/3;\n",
      "DZ[[6,4]]=1/4;\n",
      "DZ[[6,5]]=3/8;\n",
      "DZ[[6,6]]=-3/4;\n",
      "DZ[[6,13]]=1/12;\n",
      "\n",
      "DZ[[7,6]]=3/2;\n",
      "DZ[[7,7]]=-1/2;\n",
      "DZ[[7,14]]=1/6;\n",
      "\n",
      "DZ[[8,1]]=1/6;\n",
      "DZ[[8,8]]=-1;\n",
      "\n",
      "DZ[[9,2]]=5/24;\n",
      "DZ[[9,8]]=1/4;\n",
      "DZ[[9,9]]=-1;\n",
      "DZ[[9,10]]=1/12;\n",
      "\n",
      "DZ[[10,3]]=1/3;\n",
      "DZ[[10,9]]=3/4;\n",
      "DZ[[10,10]]=-1;\n",
      "\n",
      "DZ[[11,4]]=1/4;\n",
      "DZ[[11,9]]=3/4;\n",
      "DZ[[11,11]]=-3/4;\n",
      "DZ[[11,13]]=1/6;\n",
      "\n",
      "DZ[[12,5]]=1/4;\n",
      "DZ[[12,9]]=1/2;\n",
      "DZ[[12,12]]=-1;\n",
      "DZ[[12,13]]=1/6;\n",
      "\n",
      "DZ[[13,6]]=3/8;\n",
      "DZ[[13,10]]=3/8;\n",
      "DZ[[13,11]]=3/8;\n",
      "DZ[[13,12]]=1/2;\n",
      "DZ[[13,13]]=-3/4;\n",
      "DZ[[13,14]]=1/12;\n",
      "\n",
      "DZ[[14,7]]=1/2;\n",
      "DZ[[14,13]]=2;\n",
      "DZ[[14,14]]=-1/2;\n",
      "\n"
     ]
    }
   ],
   "source": [
    "## Providing list of Eq for surviving states, feeding in Mathematica ## \n",
    "#s=\"\"\n",
    "for i in range(14):\n",
    "    coefList=[0]*14  \n",
    "    coefList[i]=-1\n",
    "    s=symStates[i]\n",
    "    state=s[0]\n",
    "    List=[]\n",
    "    for j in SurvList:\n",
    "        contState=returnKey(j,symStates)\n",
    "        if WT[state,j] > 0:\n",
    "            coefList[contState]=coefList[contState]+WT[state,j]\n",
    "    coef=[]\n",
    "    s=\"\"\n",
    "    for z in range(14):\n",
    "        if coefList[z]!=0:\n",
    "            coef.append((z+1,coefList[z]))\n",
    "    \n",
    "    for L in range(len(coef)):\n",
    "        (x,y)=coef[L]\n",
    "        s=s+\"DZ[[\"+str(i+1)+\",\"+str(x)+\"]]=\"+str(y)+\";\\n\"\n",
    "    print s\n",
    "#    print (i+1,coef)"
   ]
  },
  {
   "cell_type": "code",
   "execution_count": 277,
   "metadata": {},
   "outputs": [],
   "source": [
    "sState=[sy.Rational(0)]*14"
   ]
  },
  {
   "cell_type": "code",
   "execution_count": 278,
   "metadata": {},
   "outputs": [
    {
     "name": "stdout",
     "output_type": "stream",
     "text": [
      "[sy.Rational('0'), sy.Rational('0'), sy.Rational('0'), sy.Rational('0'), sy.Rational('0'), sy.Rational('1/128'), sy.Rational('45/256'), sy.Rational('0'), sy.Rational('0'), sy.Rational('0'), sy.Rational('1/64'), sy.Rational('3/256'), sy.Rational('9/128'), sy.Rational('117/256')]\n"
     ]
    }
   ],
   "source": [
    "## Input from Mathematica ## Turning it into array\n",
    "\n",
    "#s=\"{21316566/445957423}, {18819252/445957423}, {20513325/445957423}, {27410158/445957423}, {31041563/891914846}, {29617152/445957423}, {60752786/445957423}, {4994628/445957423}, {2883734/445957423}, {2999808/445957423}, {2428650/445957423}, {1100554/445957423}, {2277723/445957423}, {4555446/445957423}\"\n",
    "s=\"{0}, {0}, {0}, {0}, {0}, {1/128}, {45/256}, {0}, {0}, {0}, {1/64}, {3/256}, {9/128}, {117/256}\"\n",
    "s=s.replace(\"{\",\"sy.Rational('\")\n",
    "s=s.replace(\"}\",\"')\")\n",
    "print \"[\"+s+\"]\"\n",
    "#sState[3]=sy.Rational('1/9')\n",
    "#sState[4]=sy.Rational('1/18')\n",
    "#sState[5]=sy.Rational('1/9')\n",
    "#sState[6]=sy.Rational('2/9')"
   ]
  },
  {
   "cell_type": "code",
   "execution_count": 279,
   "metadata": {},
   "outputs": [
    {
     "name": "stdout",
     "output_type": "stream",
     "text": [
      "1\n"
     ]
    }
   ],
   "source": [
    "#ki=1/2, sState=[sy.Rational('21316566/445957423'), sy.Rational('18819252/445957423'), sy.Rational('20513325/445957423'), sy.Rational('27410158/445957423'), sy.Rational('31041563/891914846'), sy.Rational('29617152/445957423'), sy.Rational('60752786/445957423'), sy.Rational('4994628/445957423'), sy.Rational('2883734/445957423'), sy.Rational('2999808/445957423'), sy.Rational('2428650/445957423'), sy.Rational('1100554/445957423'), sy.Rational('2277723/445957423'), sy.Rational('4555446/445957423')]\n",
    "#ki=3/2, sState=[sy.Rational('0'), sy.Rational('80337/75188576'), sy.Rational('26541/18797144'), sy.Rational('80243/2349643'),sy.Rational('423639/18797144'), sy.Rational('1379945/18797144'), sy.Rational('4572479/18797144'), sy.Rational('134133/37594288'), sy.Rational('134133/18797144'), sy.Rational('395973/37594288'), sy.Rational('492329/18797144'), sy.Rational('1124549/75188576'), sy.Rational('324483/9398572'), sy.Rational('324483/4699286')]\n",
    "# ki=0, sState=[sy.Rational('2/17'), sy.Rational('1/17'), sy.Rational('1/17'), sy.Rational('1/17'), sy.Rational('1/34'), sy.Rational('1/17'), sy.Rational('2/17'), sy.Rational('0'), sy.Rational('0'), sy.Rational('0'), sy.Rational('0'), sy.Rational('0'), sy.Rational('0'), sy.Rational('0')]\n",
    "#ki=1, sState=[sy.Rational('0'), sy.Rational('0'), sy.Rational('0'), sy.Rational('1/9'), sy.Rational('1/18'), sy.Rational('1/9'), sy.Rational('2/9'), sy.Rational('0'), sy.Rational('0'), sy.Rational('0'), sy.Rational('0'), sy.Rational('0'), sy.Rational('0'), sy.Rational('0')]\n",
    "# ki=2, sState=[sy.Rational('0'), sy.Rational('0'), sy.Rational('0'), sy.Rational('0'), sy.Rational('0'), sy.Rational('0'), sy.Rational('1'), sy.Rational('0'), sy.Rational('0'), sy.Rational('0'), sy.Rational('0'), sy.Rational('0'), sy.Rational('0'), sy.Rational('0')]\n",
    "sState=[sy.Rational('0'), sy.Rational('0'), sy.Rational('0'), sy.Rational('0'), sy.Rational('0'), sy.Rational('1/128'), sy.Rational('45/256'), sy.Rational('0'), sy.Rational('0'), sy.Rational('0'), sy.Rational('1/64'), sy.Rational('3/256'), sy.Rational('9/128'), sy.Rational('117/256')]\n",
    "exState=[sy.Rational('0')]*32 # Extended State probabilities # (17,32),(49,64)\n",
    "## From this point, we focus on 32 allowed states list them from (0,31) ## \n",
    "symStates={0:[0],1:[1,2,4,8],2:[3,12],3:[5,10],4:[6,9],5:[7,11,13,14],6:[15],7:[16],8:[17,18,20,24],9:[19,28],10:[21,26],11:[22,25],12:[23,27,29,30],13:[31]}\n",
    "degStates=[1,4,2,2,2,4,1,1,4,2,2,2,4,1]\n",
    "#SurvList=[i for i in range(16,32)]+[i for i in range(48,64)]\n",
    "\n",
    "for i in range(32):\n",
    "    exState[i]=sState[returnKey(i,symStates)]\n",
    "#    print returnKey(i,symStates)\n",
    "#Checking the answer\n",
    "Sum=0\n",
    "for i in range(len(exState)):\n",
    "    Sum=Sum+exState[i]\n",
    "print Sum\n"
   ]
  },
  {
   "cell_type": "code",
   "execution_count": 280,
   "metadata": {},
   "outputs": [],
   "source": [
    "redF=np.zeros((32,32))\n",
    "redF=redF.astype('object')\n",
    "#redW=np.zeros((32,32))\n",
    "#redW=redW.astype('object')\n",
    "for i in range(32):\n",
    "    for j in range(32):        \n",
    "        PI=exState[i]\n",
    "        PJ=exState[j]\n",
    "        redF[i,j]=PI*redW[i,j]-PJ*redW[j,i]\n",
    "#        print PI*W[List[i],List[j]]\n",
    "#        print -PJ*W[List[j],List[i]]"
   ]
  },
  {
   "cell_type": "code",
   "execution_count": 281,
   "metadata": {},
   "outputs": [
    {
     "data": {
      "text/plain": [
       "array([[0, 0, 0, ..., 0, 0, 0],\n",
       "       [0, 0, 0, ..., 0, 0, 0],\n",
       "       [0, 0, 0, ..., 0, 0, 0],\n",
       "       ...,\n",
       "       [0, 0, 0, ..., 0, 0, -3/1024],\n",
       "       [0, 0, 0, ..., 0, 0, -3/1024],\n",
       "       [0, 0, 0, ..., 3/1024, 3/1024, 0]], dtype=object)"
      ]
     },
     "execution_count": 281,
     "metadata": {},
     "output_type": "execute_result"
    }
   ],
   "source": [
    "redF"
   ]
  },
  {
   "cell_type": "code",
   "execution_count": 282,
   "metadata": {},
   "outputs": [
    {
     "name": "stdout",
     "output_type": "stream",
     "text": [
      "0\n",
      "0\n",
      "0\n",
      "0\n",
      "0\n",
      "0\n",
      "0\n",
      "0\n",
      "0\n",
      "0\n",
      "0\n",
      "0\n",
      "0\n",
      "0\n",
      "0\n",
      "0\n",
      "0\n",
      "0\n",
      "0\n",
      "0\n",
      "0\n",
      "0\n",
      "0\n",
      "0\n",
      "0\n",
      "0\n",
      "0\n",
      "0\n",
      "0\n",
      "0\n",
      "0\n",
      "0\n"
     ]
    }
   ],
   "source": [
    "#check the steady state#\n",
    "for i in range(32):\n",
    "    print sum(redF[i,])"
   ]
  },
  {
   "cell_type": "markdown",
   "metadata": {},
   "source": [
    "# collapsing the states based on X and introverts connect #"
   ]
  },
  {
   "cell_type": "code",
   "execution_count": 283,
   "metadata": {},
   "outputs": [
    {
     "name": "stdout",
     "output_type": "stream",
     "text": [
      "[[0], [1, 2, 4, 8], [3, 5, 6, 9, 10, 12], [7, 11, 13, 14], [15], [16], [17, 18, 20, 24], [19, 21, 22, 25, 26, 28], [23, 27, 29, 30], [31]]\n"
     ]
    }
   ],
   "source": [
    "## Collapsing the answers ## \n",
    "## Defining the states ## \n",
    "# Collapsing based on X and introverts connect #\n",
    "redStates=[]\n",
    "sX0=[0]\n",
    "sX1=[1,2,4,8]\n",
    "sX2=[3,5,6,9,10,12]\n",
    "sX3=[7,11,13,14]\n",
    "sX4=[15]\n",
    "sIX0=[i+16 for i in sX0]\n",
    "sIX1=[i+16 for i in sX1]\n",
    "sIX2=[i+16 for i in sX2]\n",
    "sIX3=[i+16 for i in sX3]\n",
    "sIX4=[i+16 for i in sX4]\n",
    "\n",
    "redStates.append(sX0)\n",
    "redStates.append(sX1)\n",
    "redStates.append(sX2)\n",
    "redStates.append(sX3)\n",
    "redStates.append(sX4)\n",
    "redStates.append(sIX0)\n",
    "redStates.append(sIX1)\n",
    "redStates.append(sIX2)\n",
    "redStates.append(sIX3)\n",
    "redStates.append(sIX4)\n",
    "print redStates"
   ]
  },
  {
   "cell_type": "code",
   "execution_count": 284,
   "metadata": {},
   "outputs": [],
   "source": [
    "## Finding the new state of old state, new State[X,intovers connect], old state [0,31] ##\n",
    "def returnState(index,states):\n",
    "    for i in range(len(states)):\n",
    "        for j in range(len(states[i])):\n",
    "            if index==states[i][j]:\n",
    "                return i "
   ]
  },
  {
   "cell_type": "code",
   "execution_count": 285,
   "metadata": {},
   "outputs": [],
   "source": [
    "redfF=np.zeros((10,10))\n",
    "redfF=redfF.astype('object')\n",
    "redfP0=np.zeros((10)) # New P* with reduced Dimentions\n",
    "redfP0=redfP0.astype('object')\n",
    "for i in range(32):\n",
    "    for j in range(32):\n",
    "        indexI=returnState(i,redStates) \n",
    "        indexJ=returnState(j,redStates)\n",
    "        redfF[indexI,indexJ]+=redF[i,j] # reduced F to 32*32 \n",
    "for i in range(32):\n",
    "    index=returnState(i,redStates)\n",
    "    redfP0[index]+=exState[i]"
   ]
  },
  {
   "cell_type": "markdown",
   "metadata": {},
   "source": [
    "# current patterns in collapsed states #"
   ]
  },
  {
   "cell_type": "code",
   "execution_count": 286,
   "metadata": {},
   "outputs": [
    {
     "name": "stdout",
     "output_type": "stream",
     "text": [
      "4 to 5 : 3/256 = 0.01171875\n",
      "9 to 4 : 3/256 = 0.01171875\n",
      "5 to 10 : 3/256 = 0.01171875\n",
      "10 to 9 : 3/256 = 0.01171875\n"
     ]
    }
   ],
   "source": [
    "for i in range(9):\n",
    "    for j in range(i+1,10):\n",
    "        if redfF[i,j] > 0:\n",
    "            s=str(i+1)+\" to \"+str(j+1)+\" : \"+str(redfF[i,j])+\" = \"+str(float(redfF[i,j]))\n",
    "            print s \n",
    "        elif redfF[i,j] < 0:\n",
    "            s=str(j+1)+\" to \"+str(i+1)+\" : \"+str(redfF[j,i])+\" = \"+str(float(redfF[j,i]))\n",
    "            print s"
   ]
  },
  {
   "cell_type": "markdown",
   "metadata": {},
   "source": [
    "# check the steady state #\n",
    "# total probability 1 # "
   ]
  },
  {
   "cell_type": "code",
   "execution_count": 287,
   "metadata": {},
   "outputs": [
    {
     "name": "stdout",
     "output_type": "stream",
     "text": [
      "total currents state 0 =\t0\n",
      "total currents state 1 =\t0\n",
      "total currents state 2 =\t0\n",
      "total currents state 3 =\t0\n",
      "total currents state 4 =\t0\n",
      "total currents state 5 =\t0\n",
      "total currents state 6 =\t0\n",
      "total currents state 7 =\t0\n",
      "total currents state 8 =\t0\n",
      "total currents state 9 =\t0\n",
      "total probability in collapses states = \t1\n"
     ]
    }
   ],
   "source": [
    "# redfF currents in collapsed states based on X, intoverts Connect \n",
    "# redfP0 , steady probabilities in the collapses states\n",
    "\n",
    "# check the steady state #\n",
    "# total probability 1 # \n",
    "for i in range(10):\n",
    "    s=\"total currents state \"+str(i)+\" =\\t\"+str(sum(redfF[i,]))\n",
    "    print s\n",
    "s=\"total probability in collapses states = \\t\"+ str(sum(redfP0))\n",
    "print s"
   ]
  },
  {
   "cell_type": "code",
   "execution_count": 288,
   "metadata": {},
   "outputs": [
    {
     "name": "stdout",
     "output_type": "stream",
     "text": [
      "0 = 0.0\n",
      "0 = 0.0\n",
      "0 = 0.0\n",
      "1/32 = 0.03125\n",
      "45/256 = 0.17578125\n",
      "0 = 0.0\n",
      "0 = 0.0\n",
      "7/128 = 0.0546875\n",
      "9/32 = 0.28125\n",
      "117/256 = 0.45703125\n"
     ]
    }
   ],
   "source": [
    "for i in range(10):\n",
    "    print str(redfP0[i])+\" = \"+str(float(redfP0[i]))\n"
   ]
  },
  {
   "cell_type": "code",
   "execution_count": 226,
   "metadata": {},
   "outputs": [
    {
     "data": {
      "text/plain": [
       "11039560"
      ]
     },
     "execution_count": 226,
     "metadata": {},
     "output_type": "execute_result"
    }
   ],
   "source": [
    "1379945*8"
   ]
  },
  {
   "cell_type": "markdown",
   "metadata": {},
   "source": [
    "## Results for ki=0.5 ###  \n",
    "2 to 1 : 1055447/445957423 = 0.00236669902902\n",
    "1 to 6 : 1055447/445957423 = 0.00236669902902\n",
    "3 to 2 : 3002930/445957423 = 0.00673366972972\n",
    "2 to 7 : 1947483/445957423 = 0.0043669707007\n",
    "4 to 3 : 5314687/891914846 = 0.00595873812824\n",
    "8 to 3 : 13041/16828582 = 0.000774931601486\n",
    "5 to 4 : 759241/445957423 = 0.00170249660807\n",
    "9 to 4 : 3796205/891914846 = 0.00425624152017\n",
    "10 to 5 : 759241/445957423 = 0.00170249660807\n",
    "6 to 7 : 1055447/445957423 = 0.00236669902902\n",
    "7 to 8 : 3002930/445957423 = 0.00673366972972\n",
    "8 to 9 : 5314687/891914846 = 0.00595873812824\n",
    "9 to 10 : 759241/445957423 = 0.00170249660807"
   ]
  },
  {
   "cell_type": "code",
   "execution_count": 181,
   "metadata": {},
   "outputs": [
    {
     "name": "stdout",
     "output_type": "stream",
     "text": [
      "21316566/445957423 = 0.047799554174\n",
      "75277008/445957423 = 0.168798643363\n",
      "126888529/445957423 = 0.284530590715\n",
      "118468608/445957423 = 0.265650041663\n",
      "60752786/445957423 = 0.136230014048\n",
      "4994628/445957423 = 0.0111997866666\n",
      "11534936/445957423 = 0.0258655544343\n",
      "13058024/445957423 = 0.0292808759907\n",
      "9110892/445957423 = 0.0204299592968\n",
      "4555446/445957423 = 0.0102149796484\n"
     ]
    }
   ],
   "source": [
    "for i in range(10):\n",
    "    print str(redfP0[i])+\" = \"+str(float(redfP0[i]))\n"
   ]
  },
  {
   "cell_type": "markdown",
   "metadata": {},
   "source": [
    "21316566/445957423 = 0.047799554174\n",
    "75277008/445957423 = 0.168798643363\n",
    "126888529/445957423 = 0.284530590715\n",
    "118468608/445957423 = 0.265650041663\n",
    "60752786/445957423 = 0.136230014048\n",
    "4994628/445957423 = 0.0111997866666\n",
    "11534936/445957423 = 0.0258655544343\n",
    "13058024/445957423 = 0.0292808759907\n",
    "9110892/445957423 = 0.0204299592968\n",
    "4555446/445957423 = 0.0102149796484"
   ]
  },
  {
   "cell_type": "code",
   "execution_count": 203,
   "metadata": {},
   "outputs": [
    {
     "data": {
      "text/plain": [
       "150377152"
      ]
     },
     "execution_count": 203,
     "metadata": {},
     "output_type": "execute_result"
    }
   ],
   "source": [
    "37594288*4"
   ]
  },
  {
   "cell_type": "code",
   "execution_count": 205,
   "metadata": {},
   "outputs": [
    {
     "data": {
      "text/plain": [
       "150377152"
      ]
     },
     "execution_count": 205,
     "metadata": {},
     "output_type": "execute_result"
    }
   ],
   "source": [
    "9398572*16"
   ]
  },
  {
   "cell_type": "code",
   "execution_count": 206,
   "metadata": {},
   "outputs": [
    {
     "data": {
      "text/plain": [
       "537236"
      ]
     },
     "execution_count": 206,
     "metadata": {},
     "output_type": "execute_result"
    }
   ],
   "source": [
    "134309*4"
   ]
  },
  {
   "cell_type": "code",
   "execution_count": 207,
   "metadata": {},
   "outputs": [
    {
     "data": {
      "text/plain": [
       "1730576"
      ]
     },
     "execution_count": 207,
     "metadata": {},
     "output_type": "execute_result"
    }
   ],
   "source": [
    "108161*16"
   ]
  },
  {
   "cell_type": "code",
   "execution_count": null,
   "metadata": {},
   "outputs": [],
   "source": []
  }
 ],
 "metadata": {
  "kernelspec": {
   "display_name": "Python 2",
   "language": "python",
   "name": "python2"
  },
  "language_info": {
   "codemirror_mode": {
    "name": "ipython",
    "version": 2
   },
   "file_extension": ".py",
   "mimetype": "text/x-python",
   "name": "python",
   "nbconvert_exporter": "python",
   "pygments_lexer": "ipython2",
   "version": "2.7.14"
  }
 },
 "nbformat": 4,
 "nbformat_minor": 2
}
