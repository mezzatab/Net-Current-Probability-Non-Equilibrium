{
 "cells": [
  {
   "cell_type": "code",
   "execution_count": 2,
   "metadata": {},
   "outputs": [
    {
     "ename": "ERROR",
     "evalue": "Error in layout_with_mds(g, dim = 3): At layout.c:1729 : igraph_layout_merge_dla works for 2D layouts only, Invalid value\n",
     "output_type": "error",
     "traceback": [
      "Error in layout_with_mds(g, dim = 3): At layout.c:1729 : igraph_layout_merge_dla works for 2D layouts only, Invalid value\nTraceback:\n",
      "1. plot(g, layout = layout_with_mds(g, dim = 3), vertex.size = 0, \n .     vertex.label = seq(32), edge.arrow.size = 0.5, edge.arrow.width = 0.5, \n .     edge.width = E(g)$weight * 500)",
      "2. plot.igraph(g, layout = layout_with_mds(g, dim = 3), vertex.size = 0, \n .     vertex.label = seq(32), edge.arrow.size = 0.5, edge.arrow.width = 0.5, \n .     edge.width = E(g)$weight * 500)",
      "3. i.parse.plot.params(graph, list(...))",
      "4. layout_with_mds(g, dim = 3)"
     ]
    }
   ],
   "source": [
    "library(\"igraph\")\n",
    "\n",
    "d=read.table(\"Igraph_Adj.da\",sep=\",\")\n",
    "m=data.matrix(d)\n",
    "#print(all(m-t(m)==0))\n",
    "m=m*(m>0)\n",
    "g=graph_from_adjacency_matrix(m,mode=\"directed\",weighted=TRUE)\n",
    "pdf(\"test_wb.pdf\")\n",
    "plot(g,layout=layout_with_mds(g,dim=3),vertex.size=0,vertex.label=seq(32),edge.arrow.size=0.5,edge.arrow.width=0.5,edge.width=E(g)$weight*500)\n",
    "dev.off()"
   ]
  },
  {
   "cell_type": "code",
   "execution_count": null,
   "metadata": {},
   "outputs": [],
   "source": []
  }
 ],
 "metadata": {
  "kernelspec": {
   "display_name": "R",
   "language": "R",
   "name": "ir"
  },
  "language_info": {
   "codemirror_mode": "r",
   "file_extension": ".r",
   "mimetype": "text/x-r-source",
   "name": "R",
   "pygments_lexer": "r",
   "version": "3.4.3"
  }
 },
 "nbformat": 4,
 "nbformat_minor": 2
}
